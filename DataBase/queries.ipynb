{
 "cells": [
  {
   "cell_type": "code",
   "execution_count": null,
   "metadata": {},
   "outputs": [],
   "source": [
    "import mysql.connector\n",
    "import mysql\n",
    "import pandas as pd\n",
    "import os\n",
    "import numpy as np\n",
    "\n"
   ]
  },
  {
   "cell_type": "code",
   "execution_count": 90,
   "metadata": {},
   "outputs": [],
   "source": [
    "file_path = os.path.expanduser(\"~/password/sql.txt\")\n",
    "file = open(file_path,'r')\n",
    "password = file.readline()\n",
    "mydb = mysql.connector.connect(\n",
    "    host = \"localhost\",\n",
    "    user = \"root\",\n",
    "    password = password,\n",
    "    database = \"neuralnetwork\"\n",
    "    \n",
    ")\n",
    "mycursor = mydb.cursor()"
   ]
  },
  {
   "cell_type": "code",
   "execution_count": 91,
   "metadata": {},
   "outputs": [],
   "source": [
    "def save_weight_db(file_path,weight_name):\n",
    "    read = pd.read_csv(file_path,header = None)\n",
    "    data = np.array(read)\n",
    "    \n",
    "    length = data.shape[1]\n",
    "    mycursor = mydb.cursor()\n",
    "    name = 'layer'+weight_name\n",
    "    mycursor.execute(f\"DROP TABLE {name}\")\n",
    "    mycursor.execute(f'''CREATE TABLE IF NOT EXISTS {name}(\n",
    "                     weight_1 FLOAT)\n",
    "                  ''')\n",
    "    for i in range(1,length):\n",
    "        mycursor.execute(f\"alter table {name} add weight_{i+1} FLOAT \")\n",
    "    "
   ]
  },
  {
   "cell_type": "code",
   "execution_count": null,
   "metadata": {},
   "outputs": [],
   "source": []
  },
  {
   "cell_type": "code",
   "execution_count": 115,
   "metadata": {},
   "outputs": [
    {
     "name": "stdout",
     "output_type": "stream",
     "text": [
      "saved to three_bias\n",
      "saved to one_bias\n",
      "saved to one_weights\n",
      "saved to four_weights\n",
      "saved to two_weights\n",
      "saved to two_bias\n",
      "saved to four_bias\n",
      "saved to three_weights\n"
     ]
    }
   ],
   "source": [
    "for name in os.listdir(os.path.expanduser('~/Tumor-Classification/Model_Weights')):\n",
    "    # Open file\n",
    "    file_path = os.path.join(os.path.expanduser('~/Tumor-Classification/Model_Weights'), name)\n",
    "    split = str(name).split('.')\n",
    "    save_weight_db(file_path,split[0])\n",
    "    print(f'saved to {split[0]}')\n",
    "\n",
    "    "
   ]
  },
  {
   "cell_type": "code",
   "execution_count": 114,
   "metadata": {},
   "outputs": [],
   "source": [
    "def store_weight_db(file_path,weight_name):\n",
    "    # name = 'layer'+weight_name\n",
    "    # read = pd.read_csv(file_path,header=None)\n",
    "    # data = np.array(read)\n",
    "    # for row in data:\n",
    "    #     for value in range(len(row)):\n",
    "    #         command = f\"INSERT INTO {name} (weight_{value+1}) VALUES ({row[value]})\"\n",
    "            \n",
    "    #         mycursor.execute(command)\n",
    "    name = 'layer' + weight_name\n",
    "    read = pd.read_csv(file_path, header=None)\n",
    "    data = np.array(read)\n",
    "    \n",
    "    for row in data:\n",
    "        # Create a single SQL command that inserts all values from this row at once\n",
    "        columns = \", \".join([f\"weight_{value+1}\" for value in range(len(row))])\n",
    "        values = \", \".join([str(row[value]) for value in range(len(row))])\n",
    "        \n",
    "        command = f\"INSERT INTO {name} ({columns}) VALUES ({values});\"\n",
    "        \n",
    "        mycursor.execute(command)\n",
    "        mydb.commit()\n",
    "    \n",
    "# store_weight_db(os.path.expanduser('~/Tumor-Classification/Model_Weights/three_weights.csv'),\"three_weights\")\n",
    "\n"
   ]
  },
  {
   "cell_type": "code",
   "execution_count": 116,
   "metadata": {},
   "outputs": [
    {
     "name": "stdout",
     "output_type": "stream",
     "text": [
      "stored to three_bias\n",
      "stored to one_bias\n",
      "stored to one_weights\n",
      "stored to four_weights\n",
      "stored to two_weights\n",
      "stored to two_bias\n",
      "stored to four_bias\n",
      "stored to three_weights\n"
     ]
    }
   ],
   "source": [
    "for name in os.listdir(os.path.expanduser('~/Tumor-Classification/Model_Weights')):\n",
    "    # Open file\n",
    "    file_path = os.path.join(os.path.expanduser('~/Tumor-Classification/Model_Weights'), name)\n",
    "    split = str(name).split('.')\n",
    "    store_weight_db(file_path,split[0])\n",
    "    print(f'stored to {split[0]}')"
   ]
  },
  {
   "cell_type": "code",
   "execution_count": 58,
   "metadata": {},
   "outputs": [],
   "source": [
    "file = os.path.join(os.path.expanduser('~/Tumor-Classification/Model_Weights'), \"one_weights.csv\")\n",
    "name = \"one_weights\"\n",
    "store_weight_db(file,name)"
   ]
  },
  {
   "cell_type": "code",
   "execution_count": 79,
   "metadata": {},
   "outputs": [],
   "source": [
    "mycursor.execute('delete from layerthree_weights')"
   ]
  },
  {
   "cell_type": "code",
   "execution_count": null,
   "metadata": {},
   "outputs": [],
   "source": [
    "mycursor.execute(\"SELECT * FROM layerone_weights\")\n",
    "\n",
    "myresult = mycursor.fetchall()\n",
    "data = np.array(myresult)\n",
    "print(data)"
   ]
  },
  {
   "cell_type": "code",
   "execution_count": 87,
   "metadata": {},
   "outputs": [],
   "source": [
    "def load_weights_db(network):\n",
    "    for layer in network:\n",
    "        if isinstance(layer,Dense):\n",
    "            #weights\n",
    "            name = layer.name\n",
    "            mycursor.execute((f\"SELECT * FROM layer{name}_weights\"))\n",
    "            myresult = mycursor.fetchall()\n",
    "            weight = np.array(myresult)\n",
    "            layer.weights = weight\n",
    "            print(\"Loaded weights:\", layer.name)\n",
    "            #bias\n",
    "            mycursor.execute((f\"SELECT * FROM layer{name}_bias\"))\n",
    "            myresult = mycursor.fetchall()\n",
    "            bias = np.array(myresult)\n",
    "            layer.bias = bias\n",
    "            print(\"Loaded bias:\", layer.name)"
   ]
  },
  {
   "cell_type": "code",
   "execution_count": null,
   "metadata": {},
   "outputs": [],
   "source": []
  }
 ],
 "metadata": {
  "kernelspec": {
   "display_name": "Python 3",
   "language": "python",
   "name": "python3"
  },
  "language_info": {
   "codemirror_mode": {
    "name": "ipython",
    "version": 3
   },
   "file_extension": ".py",
   "mimetype": "text/x-python",
   "name": "python",
   "nbconvert_exporter": "python",
   "pygments_lexer": "ipython3",
   "version": "3.12.5"
  }
 },
 "nbformat": 4,
 "nbformat_minor": 2
}
